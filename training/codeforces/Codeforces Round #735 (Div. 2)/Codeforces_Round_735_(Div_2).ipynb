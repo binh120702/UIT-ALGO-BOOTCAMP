{
  "nbformat": 4,
  "nbformat_minor": 0,
  "metadata": {
    "colab": {
      "name": "Codeforces Round #735 (Div. 2).ipynb",
      "provenance": [],
      "collapsed_sections": [],
      "toc_visible": true,
      "authorship_tag": "ABX9TyPFqqfV2lwxyVYmCWD5GQNe",
      "include_colab_link": true
    },
    "kernelspec": {
      "name": "python3",
      "display_name": "Python 3"
    },
    "language_info": {
      "name": "python"
    }
  },
  "cells": [
    {
      "cell_type": "markdown",
      "metadata": {
        "id": "view-in-github",
        "colab_type": "text"
      },
      "source": [
        "<a href=\"https://colab.research.google.com/github/binh120702/UIT-ALGO-BOOTCAMP/blob/main/training/codeforces/Codeforces%20Round%20%23735%20(Div.%202)/Codeforces_Round_735_(Div_2).ipynb\" target=\"_parent\"><img src=\"https://colab.research.google.com/assets/colab-badge.svg\" alt=\"Open In Colab\"/></a>"
      ]
    },
    {
      "cell_type": "markdown",
      "metadata": {
        "id": "6Ykh3S59HtMm"
      },
      "source": [
        "# Bài D\n"
      ]
    },
    {
      "cell_type": "markdown",
      "metadata": {
        "id": "xnmOswAoH1wC"
      },
      "source": [
        "Bài này ta nhận thấy chỉ được dùng lowercase letters $=>$ phải có một số kí tự lặp lại\n",
        "\n",
        "Vậy ta thử cho những kí tự lặp lại liền kề nhau, nhận thấy với một chuỗi \"xxxxxx...xxx\" độ dài n thì số lượng chuỗi độ dài 1, 2, 3, 4... lần lượt là **n, n-1, n-2, n-3, ...** và dãy này có tính chẵn lẻ xen kẽ nhau: chẵn, lẻ, chẵn, lẻ, ... \n",
        "\n",
        "Ta đã biết: chẵn + lẻ = lẻ\n",
        "vậy nếu như ta ghép hai chuỗi giống nhau, một chuỗi độ dài n, chuỗi kia độ dài n+1, thì số lượng chuỗi độ dài 1, 2, 3, 4... lần lượt là **n+n+1, n+n-1, n+n-3, n+n-5, ...** \n",
        "\n",
        "Việc còn lại là ta chỉ việc thêm vào ở giữa một kí tự hoàn toàn khác để tách 2 chuỗi ra"
      ]
    },
    {
      "cell_type": "markdown",
      "metadata": {
        "id": "vojZO_GLJYeI"
      },
      "source": [
        "# Bài E"
      ]
    },
    {
      "cell_type": "markdown",
      "metadata": {
        "id": "U51ZEK9xJa4F"
      },
      "source": [
        "##Nhận xét 1:"
      ]
    },
    {
      "cell_type": "markdown",
      "metadata": {
        "id": "C82YmirTJdb1"
      },
      "source": [
        "Ta đưa bài toán về việc với mỗi cạnh u-v của đồ thị, tăng a[u] hoặc tăng a[v] lên 1, sau đó xóa cạnh đó đi, rồi thực hiện yêu cầu bài toán (do sau khi xóa một đỉnh thì cũng xóa những cạnh liền với nó $=>$ 1 cạnh được dùng 1 lần cho 1 đỉnh)."
      ]
    },
    {
      "cell_type": "markdown",
      "metadata": {
        "id": "6h8TiLO9KNo1"
      },
      "source": [
        "**Để nhận ra được ý tưởng trên, có thể vẽ đồ thị các trường hợp nhỏ và giải ra**"
      ]
    },
    {
      "cell_type": "markdown",
      "metadata": {
        "id": "V894xFtBJ8HS"
      },
      "source": [
        "## Nhận xét 2"
      ]
    },
    {
      "cell_type": "markdown",
      "metadata": {
        "id": "S5RMJAMeJ-On"
      },
      "source": [
        "Ta thử thực thi bài toán trong $O(n^2)$, gọi f[k] là số dãy a thõa mãn chia hết cho k: \n",
        "- Với k = 1, hiển nhiên kết quả là $2^{n-1}$ (có n-1 cạnh)\n",
        "- Với k > 1, ta dfs từ một đỉnh gốc:\n",
        "  + sau khi thêm hết các đỉnh con, xét thêm trường hợp thêm cạnh từ pa[u] -> u vào hay không.\n",
        "    + nếu đã chia hết cho k thì k thêm vào\n",
        "    + nếu chưa chia hết cho k => thêm vào, a[i]+=1, nếu vẫn chưa chia hết cho k thì không có kết quả thỏa mãn => thoát thủ tục"
      ]
    },
    {
      "cell_type": "markdown",
      "metadata": {
        "id": "DwiWVi3rLchi"
      },
      "source": [
        "**Các f[k] với k>1 kết quả chỉ có thể là 0 hoặc 1, có tính duy nhất, nếu bruteforce các test nhỏ sẽ nhận ra dễ hơn, từ đó tìm kiếm hướng dfs**"
      ]
    },
    {
      "cell_type": "markdown",
      "metadata": {
        "id": "BnLNWWcPLuH-"
      },
      "source": [
        "## Nhận xét 3"
      ]
    },
    {
      "cell_type": "markdown",
      "metadata": {
        "id": "SN0XfbdoL0Fm"
      },
      "source": [
        "Không cần làm hết mọi k>1, vì nếu a[i] chia hết cho k $=> sum(a[i])=n-1$ chia hết cho k. Vậy chỉ xử lí k là ước của n-1\n"
      ]
    },
    {
      "cell_type": "markdown",
      "metadata": {
        "id": "3dEKOcQdMLtA"
      },
      "source": [
        "**Đây là một nhận xét đơn giản về kiến thức toán**"
      ]
    },
    {
      "cell_type": "markdown",
      "metadata": {
        "id": "lAvNFA4hMQnn"
      },
      "source": [
        "Sau cùng chỉ việc DP đơn giản :\n",
        "$res[i] = res[i] - sum(res[j])$ với j là bội của i"
      ]
    },
    {
      "cell_type": "markdown",
      "metadata": {
        "id": "kC2n8iPCMmL8"
      },
      "source": [
        "## Rút ra\n"
      ]
    },
    {
      "cell_type": "markdown",
      "metadata": {
        "id": "8ObRmU8lMrv9"
      },
      "source": [
        "- Phần khó nhất nằm ở Nhận xét 1 và 2, nếu ta thử bruteforce ở những test nhỏ sẽ tăng khả năng làm được lên nhiều\n",
        "- Đồng thời cần cố gắng loại bỏ các thông tin nhiễu đề đưa ra"
      ]
    }
  ]
}