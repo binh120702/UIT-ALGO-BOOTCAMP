{
  "nbformat": 4,
  "nbformat_minor": 0,
  "metadata": {
    "colab": {
      "name": "Codeforces Round #730 (Div. 2).ipynb",
      "provenance": [],
      "authorship_tag": "ABX9TyMPioNPMXMVXvy2bc9ZYLMH",
      "include_colab_link": true
    },
    "kernelspec": {
      "name": "python3",
      "display_name": "Python 3"
    },
    "language_info": {
      "name": "python"
    }
  },
  "cells": [
    {
      "cell_type": "markdown",
      "metadata": {
        "id": "view-in-github",
        "colab_type": "text"
      },
      "source": [
        "<a href=\"https://colab.research.google.com/github/binh120702/UIT-ALGO-BOOTCAMP/blob/main/training/codeforces/Codeforces%20Round%20%23730%20(Div.%202)/Codeforces%20Round%20%23730%20(Div.%202).ipynb\" target=\"_parent\"><img src=\"https://colab.research.google.com/assets/colab-badge.svg\" alt=\"Open In Colab\"/></a>"
      ]
    },
    {
      "cell_type": "markdown",
      "metadata": {
        "id": "IOhGYcJ6CrFJ"
      },
      "source": [
        "#Problem C\n",
        " \n",
        "- Expected value : E(x) = $p_{i_1}*i_1 + p_{i_2}*i_2 + ...+p_{i_k}*i_k$, trong đó:\n",
        "  + $i_1, i_2, ..., i_k$ là các giá trị có thể xảy ra của x\n",
        "  + $p_{i_1}, p_{i_2}, ..., p_{i_k}$ là xác xuất xảy ra tương ứng của $i_1, i_2, ..., i_k$\n",
        "\n",
        "- Cần chú ý khi xử lí số thực, ta không so sánh bằng mà dùng một hàm so sánh (do kiểu số thực lưu trong máy tính không chính xác tuyệt đối):\n"
      ]
    },
    {
      "cell_type": "code",
      "metadata": {
        "id": "VY2UTQpHEiLS"
      },
      "source": [
        "const double x = 1e-9;\n",
        "bool compare(double x, double y){\n",
        "    return abs(x-y) < eps;\n",
        "}"
      ],
      "execution_count": null,
      "outputs": []
    }
  ]
}