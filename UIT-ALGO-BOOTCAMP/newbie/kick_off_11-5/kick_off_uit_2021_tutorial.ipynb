{
  "nbformat": 4,
  "nbformat_minor": 0,
  "metadata": {
    "colab": {
      "name": "kick-off-uit-2021-tutorial.ipynb",
      "provenance": [],
      "collapsed_sections": [
        "w9FwgkPnUd4D",
        "1ODMzw3MVagv",
        "FTlKXeSNbWke",
        "0pqHx2mOhGJp",
        "Ca-yh2pukHB_",
        "6SsjNltm91V1"
      ],
      "toc_visible": true,
      "authorship_tag": "ABX9TyNrG9RbQbE9ZNVLdtTYmMgK",
      "include_colab_link": true
    },
    "kernelspec": {
      "name": "python3",
      "display_name": "Python 3"
    },
    "language_info": {
      "name": "python"
    }
  },
  "cells": [
    {
      "cell_type": "markdown",
      "metadata": {
        "id": "view-in-github",
        "colab_type": "text"
      },
      "source": [
        "<a href=\"https://colab.research.google.com/github/binh120702/UIT-ALGO-BOOTCAMP/blob/main/UIT-ALGO-BOOTCAMP/newbie/kick_off_11-5/kick_off_uit_2021_tutorial.ipynb\" target=\"_parent\"><img src=\"https://colab.research.google.com/assets/colab-badge.svg\" alt=\"Open In Colab\"/></a>"
      ]
    },
    {
      "cell_type": "markdown",
      "metadata": {
        "id": "w9FwgkPnUd4D"
      },
      "source": [
        "#Bài 1 - Hidden Word"
      ]
    },
    {
      "cell_type": "markdown",
      "metadata": {
        "id": "1ODMzw3MVagv"
      },
      "source": [
        "## Tóm tắt "
      ]
    },
    {
      "cell_type": "markdown",
      "metadata": {
        "id": "7Oh42tF5Vhms"
      },
      "source": [
        "Cho bảng kí tự A = [a..z], kích thước MxN. Q truy vấn, mỗi truy vấn gồm một xâu S, cần kiểm tra xem S có tồn tại trong A không (có thể đọc từ trên xuống dưới hoặc từ trái qua phải)\n",
        "\n",
        "**Ràng buộc:** \n",
        "  * $1<= M*N <=10^5$\n",
        "  * $1<= Q <= 10^4$\n",
        "  * $len(S[i])<=10$"
      ]
    },
    {
      "cell_type": "markdown",
      "metadata": {
        "id": "L1xUKw7AX2Tp"
      },
      "source": [
        "## Ý tưởng"
      ]
    },
    {
      "cell_type": "markdown",
      "metadata": {
        "id": "xLCNplhnZei0"
      },
      "source": [
        "- Ý tưởng ban đầu: duyệt qua các truy vấn, kiểm tra từng xâu trong mảng A. ĐPT: O($Q*M*N*10$)\n",
        "\n",
        " => Không khả thi để chạy trong 1s"
      ]
    },
    {
      "cell_type": "markdown",
      "metadata": {
        "id": "szqB3dC_aBbU"
      },
      "source": [
        "- Cải tiến, ta thấy số truy vấn $Q <= 10^4$, nhỏ hơn $M*N<=10^5$, vậy để tránh tốn quá nhiều bộ nhớ truy cập map ta xuất phát từ Q trước, lưu các xâu truy vấn lại vào một map myMap, sau đó với mỗi xâu X có độ dài <=10, ta kiểm tra xem X có tồn tại trong myMap không, nếu có thì lưu lại kết quả\n",
        "\n",
        "ĐPT: O($M*N*log(Q)$)\n",
        "\n",
        "\n"
      ]
    },
    {
      "cell_type": "markdown",
      "metadata": {
        "id": "JhZS7BE2-p6O"
      },
      "source": [
        "- Ngoài ra ta có thể dùng cấu trúc dữ liệu Trie để lưu giữ các từ có độ dài 10 và duyệt từng truy vấn"
      ]
    },
    {
      "cell_type": "markdown",
      "metadata": {
        "id": "6V1eyg5IbLap"
      },
      "source": [
        "## Code"
      ]
    },
    {
      "cell_type": "code",
      "metadata": {
        "id": "0FmAmzpMbNqi"
      },
      "source": [
        "n, m, q = map(int, input().strip().split())\n",
        "s = []\n",
        "for i in range(n):\n",
        "    s.append(input())\n",
        "sol = [0]*10005\n",
        "myMap = {}\n",
        "\n",
        "for i in range(q):\n",
        "    st = input()\n",
        "    if not myMap.get(st):\n",
        "        myMap[st] = []\n",
        "    myMap[st].append(i)\n",
        "\n",
        "for i in range(n):\n",
        "    for j in range(m):\n",
        "        # right\n",
        "        cur_str = ''\n",
        "        for step in range(10):\n",
        "            if j+step>=m:\n",
        "                break\n",
        "            cur_str+=s[i][j+step]\n",
        "            if myMap.get(cur_str) != None:\n",
        "                for id in myMap[cur_str]:\n",
        "                    sol[id] = 1\n",
        "        # down\n",
        "        cur_str = ''\n",
        "        for step in range(10):\n",
        "            if i+step>=n:\n",
        "                break\n",
        "            cur_str+=s[i+step][j]\n",
        "            if myMap.get(cur_str) != None:\n",
        "                for id in myMap[cur_str]:\n",
        "                    sol[id] = 1\n",
        "        \n",
        "for i in range(q):\n",
        "    print(sol[i], end='')"
      ],
      "execution_count": null,
      "outputs": []
    },
    {
      "cell_type": "markdown",
      "metadata": {
        "id": "FTlKXeSNbWke"
      },
      "source": [
        "# Bài 2 - True Expression"
      ]
    },
    {
      "cell_type": "markdown",
      "metadata": {
        "id": "ZwF54V6wbc8b"
      },
      "source": [
        "## Tóm tắt\n"
      ]
    },
    {
      "cell_type": "markdown",
      "metadata": {
        "id": "hUh7w9YCb-3u"
      },
      "source": [
        "Cho N và S, với i = [1..n] ta cần cộng hoặc trừ i để tổng cuối cùng = S\n",
        "\n",
        "**Ràng buộc:**\n",
        "- $1<=N<=100$\n",
        "- $1<=S<=10000$"
      ]
    },
    {
      "cell_type": "markdown",
      "metadata": {
        "id": "6u2fi5p6ch5E"
      },
      "source": [
        "##Ý tưởng"
      ]
    },
    {
      "cell_type": "markdown",
      "metadata": {
        "id": "j3wphcEjckYD"
      },
      "source": [
        "- Giả sử tất cả đều là dấu +, vậy tổng sẽ là $sum=\\frac{n*(n+1)}{2}$\n",
        "\n",
        " Nếu ta đổi một dấu + thành dấu - tại vị trí i thì lúc này $sum=sum-2*i$\n",
        "\n",
        "- Bây giờ bài toán biến thành cần chọn một số chỉ số $i_1,i_2,...,i_k$ để sao cho:\n",
        "\n",
        " $sum-2*i_1-2*i_2-...-2*i_k = S$ \n",
        "\n",
        "- Tương đương với:\n",
        "\n",
        " $\\frac{sum-s}{2} = i_1+i_2+...+i_k $ (1) ($i_1, i_2, ..., i_k$ là những vị trí cần điền dấu trừ -) \n",
        "- Vậy suy ra được, bài toán chỉ có nghiệm khi $sum-s$ chia hết cho 2\n",
        "- Để giải (1) ta có thể dùng dynamic programming để giải quyết hoặc dùng nhận xét: \n",
        "\n",
        "Ta cứ cộng dần 1,2,...,n đến khi nào $currentSum >\\frac{sum-s}{2}$, tiếp đấy ta chỉ cần trừ đi một số i là $currentSum-\\frac{sum-s}{2}$. Đó chính là kết quả cuối cùng ta cần tìm\n"
      ]
    },
    {
      "cell_type": "markdown",
      "metadata": {
        "id": "tikkN0lzgrBY"
      },
      "source": [
        "##Code"
      ]
    },
    {
      "cell_type": "code",
      "metadata": {
        "id": "lvu8Ly05gx8x"
      },
      "source": [
        "n, s =map(int, input().split())\n",
        "\n",
        "sum = (n*(n+1))//2\n",
        "\n",
        "if (sum-s)%2==1 or sum<s:\n",
        "    print('NO_SOLUTION ')\n",
        "    exit()\n",
        "\n",
        "tmp = (sum-s)//2\n",
        "for i in range(1,n+1):\n",
        "    tmp-=i\n",
        "    if tmp<=0:\n",
        "        for j in range(1,i+1):\n",
        "            if j!=-tmp:\n",
        "                print('-',end='')\n",
        "            else: \n",
        "                print('+',end='')\n",
        "        for j in range(i+1,n+1):\n",
        "            print('+',end='')\n",
        "        break"
      ],
      "execution_count": null,
      "outputs": []
    },
    {
      "cell_type": "markdown",
      "metadata": {
        "id": "0pqHx2mOhGJp"
      },
      "source": [
        "#Bài 3 - Top K Hits"
      ]
    },
    {
      "cell_type": "markdown",
      "metadata": {
        "id": "_G0Ztod5hKpc"
      },
      "source": [
        "## Tóm tắt"
      ]
    },
    {
      "cell_type": "markdown",
      "metadata": {
        "id": "TMvFTw39ha_y"
      },
      "source": [
        "Cho dãy N phần tử ban đầu đều bằng 0, Q truy vấn, có 2 loại truy vấn, 1 là tăng đoạn [l,r] lên v đơn vị, 2 là tìm k phần tử lớn nhất trong dãy\n",
        "\n",
        "**Ràng buộc:**\n",
        "- $1<=N,Q<=50000$\n",
        "- $1<=l,r<=N$\n",
        "- $-10^9<=v<=10^9$\n",
        "- $1<=k<=5$"
      ]
    },
    {
      "cell_type": "markdown",
      "metadata": {
        "id": "OTlKBxnIjKdL"
      },
      "source": [
        "## Ý tưởng"
      ]
    },
    {
      "cell_type": "markdown",
      "metadata": {
        "id": "OOjUxecJjQoq"
      },
      "source": [
        "Đây là một bài toán sử dụng Interval Tree cơ bản với 2 thao tác, tăng một đoạn lên k đơn vị và lấy max trong một đoạn. Vì cần lấy max trong một đoạn (1,n) nên ta phải sử dụng Lazy Propagation để giảm độ phức tạp, có thể đọc thêm trong tài liệu :\n",
        "https://vnoi.info/wiki/algo/data-structures/segment-tree-extend.md#2-lazy-propagation"
      ]
    },
    {
      "cell_type": "markdown",
      "metadata": {
        "id": "JVZXGE8ikDsf"
      },
      "source": [
        "##Code"
      ]
    },
    {
      "cell_type": "code",
      "metadata": {
        "id": "es2FiBoDkEtS"
      },
      "source": [
        "inp_ = input().strip().split()\n",
        "n = int(inp_[0])\n",
        "q = int(inp_[1])\n",
        "\n",
        "tree = [{()} for lp in range(50000 * 4 + 10)]\n",
        "lazy = [(0) for lp in range(50000 * 4 + 10)]\n",
        "\n",
        "\n",
        "def build(i, l, r):\n",
        "    if l == r:\n",
        "        tree[i].clear()\n",
        "        tree[i].add((0, l))\n",
        "        return\n",
        "\n",
        "    m = (l + r) >> 1\n",
        "\n",
        "    build(i << 1, l, m)\n",
        "    build(i << 1 | 1, m + 1, r)\n",
        "\n",
        "    tree[i] = tree[i << 1] | tree[i << 1 | 1]\n",
        "    while len(tree[i]) > 5:\n",
        "        (tree[i]).remove(min(tree[i]))\n",
        "\n",
        "\n",
        "def addValue(i, val):\n",
        "    tmp = {()}\n",
        "    tmp.clear()\n",
        "    while len(tree[i]) > 0:\n",
        "        v_tmp = tree[i].pop()\n",
        "        tmp.add((v_tmp[0] + val, v_tmp[1]))\n",
        "    return tmp\n",
        "\n",
        "\n",
        "def down(i):\n",
        "    lazy[i << 1] += lazy[i]\n",
        "    lazy[i << 1 | 1] += lazy[i]\n",
        "\n",
        "    tree[i<<1] = addValue(i << 1, lazy[i])\n",
        "    tree[i<<1|1] = addValue(i << 1 | 1, lazy[i])\n",
        "\n",
        "    lazy[i] = 0\n",
        "\n",
        "\n",
        "def update(i, l, r, u, v, val):\n",
        "    if l > v or r < u:\n",
        "        return\n",
        "    if u <= l and r <= v:\n",
        "        lazy[i] += val\n",
        "        tree[i] = addValue(i, val)\n",
        "        return\n",
        "\n",
        "    m = (l + r) >> 1\n",
        "    if lazy[i]!=0:\n",
        "        down(i)\n",
        "    update(i << 1, l, m, u, v, val)\n",
        "    update(i << 1 | 1, m + 1, r, u, v, val)\n",
        "\n",
        "    tree[i] = tree[i << 1] | tree[i << 1 | 1]\n",
        "    while len(tree[i]) > 5:\n",
        "        (tree[i]).remove(min(tree[i]))\n",
        "\n",
        "\n",
        "build(1, 1, n)\n",
        "for query_ in range(q):\n",
        "    inp_ = input().split()\n",
        "    typ = int(inp_[0])\n",
        "    if typ == 1:\n",
        "        lef = int(inp_[1])\n",
        "        rig = int(inp_[2])\n",
        "        val = int(inp_[3])\n",
        "        update(1, 1, n, lef, rig, val)\n",
        "    else:\n",
        "        k = int(inp_[1])\n",
        "        seg = sorted(tree[1], reverse=True)\n",
        "        for i in range(min(k, n)):\n",
        "            print(seg[i][1], end=' ')\n",
        "        print()"
      ],
      "execution_count": null,
      "outputs": []
    },
    {
      "cell_type": "markdown",
      "metadata": {
        "id": "Ca-yh2pukHB_"
      },
      "source": [
        "#Bài 4 - Splitting Carrots"
      ]
    },
    {
      "cell_type": "markdown",
      "metadata": {
        "id": "hMxLdrSqkSqa"
      },
      "source": [
        "##Tóm tắt"
      ]
    },
    {
      "cell_type": "markdown",
      "metadata": {
        "id": "ZFIbk2DlkrnL"
      },
      "source": [
        "Cho dãy A gồm N phần tử, cần kiểm tra xem phải bỏ đi bao nhiêu phần tử thì dãy còn lại không thể chia thành 2 phần có tổng bằng nhau\n",
        "\n",
        "**Ràng buộc:**\n",
        "\n",
        "- $1<=N<=100$\n",
        "- $A[i] <= 2000$"
      ]
    },
    {
      "cell_type": "markdown",
      "metadata": {
        "id": "caT9-b7CmUvG"
      },
      "source": [
        "##Ý tưởng\n"
      ]
    },
    {
      "cell_type": "markdown",
      "metadata": {
        "id": "ILTNCr90mWrM"
      },
      "source": [
        "- Đầu tiên, ta cần kiểm tra xem dãy hiện tại có thể chia thành 2 phần có tổng bằng nhau không, nếu không thì có thể xuất ra kết quả là 0 ngay lập tức\n",
        "- Ngược lại, có thể chứng minh luôn có cách bỏ đi một số và thỏa mãn đề bài. Nếu có thể chia thành 2 phần có tổng bằng nhau, => tổng của dãy chẵn, vậy ta cần tìm một phần tử lẻ sau đó loại bỏ nó, vậy tổng còn lại sẽ là một số lẻ và không thể chia đôi được. Kết quả là bỏ một số lẻ\n",
        "- Trường hợp dãy chỉ toàn số chẵn :\n",
        " $=> a_1 + a_2 + ... + a_n = s$\n",
        "- Dãy này tương đương với:\n",
        "$\\frac{a_1}{2} + \\frac{a_2}{2} + ... + \\frac{a_n}{2} = \\frac{s}{2}$\n",
        "- $\\frac{s}{2}$ vẫn là một số chẵn vì nó được tạo thành từ toàn các số chẵn, tương tự với $\\frac{s}{4}$, $\\frac{s}{8}$, ...\n",
        "- Vậy ta cần chia dãy A tới khi nào xuất hiện số lẻ và loại bỏ nó"
      ]
    },
    {
      "cell_type": "markdown",
      "metadata": {
        "id": "XhZZ-uXm9MM3"
      },
      "source": [
        "##Code"
      ]
    },
    {
      "cell_type": "code",
      "metadata": {
        "id": "LtFxD3PQ9QPs"
      },
      "source": [
        "n = int(input())\n",
        "a = [int(s) for s in input().split()]\n",
        "\n",
        "sum = 0\n",
        "ans = -1\n",
        "for i in a:\n",
        "    sum+=i\n",
        "if (sum%2==1):\n",
        "    print(0)\n",
        "    exit()\n",
        "\n",
        "dp = 1 \n",
        "for i in a:\n",
        "    dp|=(dp<<i)\n",
        "if ((dp>>(sum>>1))&1)== 0:\n",
        "    print(0)\n",
        "    exit()\n",
        "\n",
        "cur_min = 100\n",
        "ans = 0\n",
        "for i in range(n):\n",
        "    cnt_div_2 = 0\n",
        "    while a[i]%2==0:\n",
        "        cnt_div_2+=1\n",
        "        a[i]=a[i]//2\n",
        "    if cnt_div_2 < cur_min:\n",
        "        cur_min = cnt_div_2\n",
        "        ans = i\n",
        "print(1)\n",
        "print(ans+1)"
      ],
      "execution_count": null,
      "outputs": []
    },
    {
      "cell_type": "markdown",
      "metadata": {
        "id": "6-2sXob5996V"
      },
      "source": [
        "Ta có thể tối ưu phần DP bằng cách dùng bitset để tiết kiệm bộ nhớ và thời gian"
      ]
    },
    {
      "cell_type": "markdown",
      "metadata": {
        "id": "6SsjNltm91V1"
      },
      "source": [
        "#Bài 5 - MineSweeper"
      ]
    },
    {
      "cell_type": "markdown",
      "metadata": {
        "id": "HO-ZC5wf-U61"
      },
      "source": [
        "##Tóm tắt\n",
        "Bài toán dựa trên trò chơi dò mìn kinh điển. Cho ma trận A kích thước NxM, ý nghĩa của mỗi ô: a[i][j] là số ô có bom chung cạnh với ô đó ( không tính chính nó). Cần tìm ra vị trí của các ô có bom\n",
        "\n",
        "**Ràng buộc :**\n",
        "- $1<=N,M<=40$\n",
        "- $0<=a[i][j]<=4$"
      ]
    },
    {
      "cell_type": "markdown",
      "metadata": {
        "id": "SxObquzJ_bdS"
      },
      "source": [
        "##Ý tưởng"
      ]
    },
    {
      "cell_type": "markdown",
      "metadata": {
        "id": "X2DdHLz0_c-e"
      },
      "source": [
        "- Bài toán có giới hạn khá nhỏ, nên ta có thể nghĩ tới phương án đệ quy, kết hợp với nhánh cận để thử.\n",
        "- Có thể sử dụng các nhánh cận: chỉ quan tâm tới a[i][j] = 2,3. (a[i][j] = 0, 4 có thể xác định được ngay), mỗi lần thử một ô ta ngay lập tức so sánh với một ô liền cạnh để xác định,..."
      ]
    },
    {
      "cell_type": "markdown",
      "metadata": {
        "id": "7SrmheE7A2YB"
      },
      "source": [
        "##Code"
      ]
    },
    {
      "cell_type": "code",
      "metadata": {
        "id": "B70gbKb_A3qM"
      },
      "source": [
        "n, m = map(int, input().split())\n",
        "a = [[int(0) for j in range(m)] for i in range(n)]\n",
        "b = [[int(j) for j in input().split()] for i in range(n)]\n",
        "ck = [0,0]\n",
        "\n",
        "def nex(i,j):\n",
        "    s= 0\n",
        "    if i>0:\n",
        "        s+=a[i-1][j]\n",
        "    if i<n-1:\n",
        "        s+=a[i+1][j]\n",
        "    if j>0:\n",
        "        s+=a[i][j-1]\n",
        "    if j<m-1:\n",
        "        s+=a[i][j+1]\n",
        "    return s\n",
        "\n",
        "def check():\n",
        "    for i in range(1,n):\n",
        "        for j in range(m):\n",
        "            tmp = nex(i-1,j)-a[i][j]\n",
        "            a[i][j] = b[i-1][j] - tmp\n",
        "            if a[i][j]<0 or a[i][j]>2:\n",
        "                return 0\n",
        "            if nex(i-1,j)!=b[i-1][j]:\n",
        "                return 0\n",
        "    for i in range(n):\n",
        "        for j in range(m):\n",
        "            if nex(i,j)!=b[i][j]:\n",
        "                return 0\n",
        "    return 1\n",
        "\n",
        "def pr():\n",
        "    for i in range(n):\n",
        "        for j in range(m):\n",
        "            print(a[i][j], end = ' ')\n",
        "        print()\n",
        "\n",
        "def att(u, v):\n",
        "    if ck[0] : \n",
        "        return\n",
        "    for i in range(2):\n",
        "        if ck[0] : \n",
        "            return\n",
        "        a[u][v] = i\n",
        "        if v>0 and b[u][v]-a[u][v-1]<0:\n",
        "            continue\n",
        "        if u==0 and v==m-1:\n",
        "            ck[0] = check()\n",
        "            if ck[0]:\n",
        "                pr()\n",
        "        else:\n",
        "            if (u>0):\n",
        "                att(u-1,v)\n",
        "            else:\n",
        "                att(u,v+1)\n",
        "\n",
        "\n",
        "\n",
        "att(0,0)"
      ],
      "execution_count": null,
      "outputs": []
    }
  ]
}