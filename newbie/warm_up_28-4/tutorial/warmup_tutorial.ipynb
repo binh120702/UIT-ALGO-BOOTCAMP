{
  "nbformat": 4,
  "nbformat_minor": 0,
  "metadata": {
    "colab": {
      "name": "newbie_warmup_tutorial.ipynb",
      "provenance": [],
      "collapsed_sections": [],
      "toc_visible": true,
      "authorship_tag": "ABX9TyOJaldQHtVGF3ButwX51565",
      "include_colab_link": true
    },
    "kernelspec": {
      "name": "python3",
      "display_name": "Python 3"
    },
    "language_info": {
      "name": "python"
    }
  },
  "cells": [
    {
      "cell_type": "markdown",
      "metadata": {
        "id": "view-in-github",
        "colab_type": "text"
      },
      "source": [
        "<a href=\"https://colab.research.google.com/github/binh120702/UIT-ALGO-BOOTCAMP/blob/main/newbie/warm_up_28-4/tutorial/warmup_tutorial.ipynb\" target=\"_parent\"><img src=\"https://colab.research.google.com/assets/colab-badge.svg\" alt=\"Open In Colab\"/></a>"
      ]
    },
    {
      "cell_type": "markdown",
      "metadata": {
        "id": "-maHm9tytQot"
      },
      "source": [
        "#VW05p_Enrichement"
      ]
    },
    {
      "cell_type": "markdown",
      "metadata": {
        "id": "DU7UqvKWtvfD"
      },
      "source": [
        "##Tóm tắt"
      ]
    },
    {
      "cell_type": "markdown",
      "metadata": {
        "id": "vcC6PX4cto8k"
      },
      "source": [
        "Cho ma trận nxm, nxm<=10^6 tìm ma trận con 3x3 sao cho có tổng nhỏ nhất"
      ]
    },
    {
      "cell_type": "markdown",
      "metadata": {
        "id": "xdl9YssKu0Z-"
      },
      "source": [
        "##Ý tưởng"
      ]
    },
    {
      "cell_type": "markdown",
      "metadata": {
        "id": "wW2CIXLPu2lM"
      },
      "source": [
        "Ta duyệt qua các ô (i,j), xem ô (i,j) là góc trái trên ma trận 3x3, tính sum() và lấy min tất cả các ma trận"
      ]
    },
    {
      "cell_type": "markdown",
      "metadata": {
        "id": "jAHilvITvgZ5"
      },
      "source": [
        "##Code"
      ]
    },
    {
      "cell_type": "code",
      "metadata": {
        "id": "SCYOT1Lxvh1T"
      },
      "source": [
        "n, m = map(int, input().split())\n",
        "arr = [[int(j) for j in input().split()] for i in range(n)]\n",
        "\n",
        "#hàm sum3x3 trả về tổng các ô trong ma trận 3x3 có ô trái trên là ô (i,j)\n",
        "def sum3x3(i,j):\n",
        "    sum = 0\n",
        "    for x in range(3):\n",
        "        for y in range(3):\n",
        "            sum+=arr[i+x][j+y]\n",
        "    return sum\n",
        "\n",
        "minSum = 9*100000\n",
        "\n",
        "#duyệt qua tất cả các ô có thể\n",
        "for i in range(n-2):\n",
        "    for j in range(m-2):\n",
        "        minSum = min(minSum, sum3x3(i,j))\n",
        "\n",
        "print(minSum)"
      ],
      "execution_count": null,
      "outputs": []
    },
    {
      "cell_type": "markdown",
      "metadata": {
        "id": "dM7VLrtnwBJ5"
      },
      "source": [
        "#VW04p_Checkout"
      ]
    },
    {
      "cell_type": "markdown",
      "metadata": {
        "id": "mmPA3Z-QwDep"
      },
      "source": [
        "##Tóm tắt"
      ]
    },
    {
      "cell_type": "markdown",
      "metadata": {
        "id": "34mVBg1nwGWY"
      },
      "source": [
        "Cho d, a1, a2, t, v_max. Tính t_min với t là khoảng thời gian từ lúc v=0, tăng tốc lên V với gia tốc a1, duy trì ít nhất t giây, giảm dần về 0 với gia tốc a2, quãng đường đi được = 0.\n",
        "=> Cần tìm V sao cho T = d/v + v/(2 x a1) + v/(2 x a2) **MIN**. "
      ]
    },
    {
      "cell_type": "markdown",
      "metadata": {
        "id": "r71t8VngCY8r"
      },
      "source": [
        "## Ý tưởng\n"
      ]
    },
    {
      "cell_type": "markdown",
      "metadata": {
        "id": "fpM8is4mCgJT"
      },
      "source": [
        "Ta tham lam (Greedy) chọn V lớn nhất có thể => chọn V để đi nhanh nhất, hay đi đúng t giây với vận tốc V, lưu ý còn có ràng buộc vận tốc không được vượt quá v_max đề cho"
      ]
    },
    {
      "cell_type": "markdown",
      "metadata": {
        "id": "XNQQaOPVGJPr"
      },
      "source": [
        "##Code"
      ]
    },
    {
      "cell_type": "code",
      "metadata": {
        "id": "L0--6QlHGOGv"
      },
      "source": [
        "import math\n",
        "d, a1, a2, v, t = map(float, input().split())\n",
        "\n",
        "#ta thế t đề cho vào phương trình ở tóm tắt rồi tiến hành giải pt bậc 2\n",
        "a = -1/(2*a1) - 1/(2*a2)\n",
        "b = -t\n",
        "c = d\n",
        "delta = b*b-4*a*c\n",
        "x1 = (-b+math.sqrt(delta))/(2*a)\n",
        "x2 = (-b-math.sqrt(delta))/(2*a)\n",
        "v_new = max(x1,x2)\n",
        "if v_new<v: # thõa điều kiện v ta tìm phải < v đề cho\n",
        "    v= v_new\n",
        "t = v/(2*a1) + v/(2*a2) +  d/v\n",
        "print(round(t,12))"
      ],
      "execution_count": null,
      "outputs": []
    },
    {
      "cell_type": "markdown",
      "metadata": {
        "id": "3sKkzhzJHUcL"
      },
      "source": [
        "#VW07p_Vitamin"
      ]
    },
    {
      "cell_type": "markdown",
      "metadata": {
        "id": "u70rC6GgHcYZ"
      },
      "source": [
        "##Tóm tắt"
      ]
    },
    {
      "cell_type": "markdown",
      "metadata": {
        "id": "h41qzwOwL2zV"
      },
      "source": [
        "Cho dãy n phần tử , số nguyên x. Cần chọn ra một số chỉ số i1, i2, i3,..., ik sao cho tổng s[i1] + s[i1] + s[i3] + ... + s[ik] = x và tổng i1+i2+...+ik+k-1 nhỏ nhất, với s[i] = tổng từ a[1] -> a[i] (i<n) hoặc = tổng a[1] -> a[n-1] + (i-n+1)*a[n] (i>=n). "
      ]
    },
    {
      "cell_type": "markdown",
      "metadata": {
        "id": "0F0mS7YYPHOJ"
      },
      "source": [
        "##Ý tưởng"
      ]
    },
    {
      "cell_type": "markdown",
      "metadata": {
        "id": "3BkjnW4MPJYj"
      },
      "source": [
        "Giả sử ta có dãy i1, i2, i3,..., ik có thể chứng minh được nếu có nhiều hơn một giá trị i>=n thì có thể đưa về một giá trị i>n, các giá trị còn lại = n-1:"
      ]
    },
    {
      "cell_type": "markdown",
      "metadata": {
        "id": "Dp6PKoFhPkIs"
      },
      "source": [
        "Xét i1 và i2 (sao cho i1, i2>=n) ta có thể biến đổi i1 = i1 + (n-i2+1), i2 = n-1. Khi đó tổng s[i1] + s[i2] không thay đổi"
      ]
    },
    {
      "cell_type": "markdown",
      "metadata": {
        "id": "2h4jDaJcSAye"
      },
      "source": [
        "Vậy ta chia bài toán đã cho thành hai bài toán con: \n",
        "- Chỉ xử lí những i < n (vậy chỉ xét tới a[n-1])\n",
        "- Xử lí trường hợp chứa **ĐÚNG MỘT I** lớn hơn>=n"
      ]
    },
    {
      "cell_type": "markdown",
      "metadata": {
        "id": "bEXgJELdT2Ay"
      },
      "source": [
        "Với trường hợp 1, ta sẽ sử dụng quy hoạch động:\n",
        "- Gọi f[u] là thời gian ít nhất (theo đề) để đạt đủ u vitamin\n",
        "Vậy dễ thấy nếu ta sử dụng máy tạo vitamin tới thời điểm thứ i thì reset, lúc đó ta sẽ nhận được sum[i] vitamin, và tốn mất i+1 giờ\n",
        "- Vậy nếu như ta đang có u vitamin, sau khi thực hiện các bước trên ta sẽ có u+sum[i] vitamin và tốn f[u]+i+1 giờ\n",
        "- Từ các ý trên, ta suy ra được công thức quy hoạch động: ***f[u+sum[i]] = min(f[u+sum[i]], f[u]+i+1)***"
      ]
    },
    {
      "cell_type": "markdown",
      "metadata": {
        "id": "KjRyJimQZHpT"
      },
      "source": [
        "Với trường hợp 2, ta giả sử tồn tại một phần tử là i_n-1 khi đó tổng sẽ gồm sum trường hợp 1 + sum[n-1] + aNumber x a[n] = X. Vậy ta sẽ thử mọi trường hợp của aNumber, sau đó lấy min để tìm ra kết quả cuối cùng"
      ]
    },
    {
      "cell_type": "markdown",
      "metadata": {
        "id": "i9jzBUzSTNkJ"
      },
      "source": [
        "##Code"
      ]
    },
    {
      "cell_type": "markdown",
      "metadata": {
        "id": "P0-ZPuPEai5R"
      },
      "source": [
        "Ban đầu khởi tạo mọi f[u] = một số cực lớn, để sau đó ta sẽ lấy min."
      ]
    },
    {
      "cell_type": "markdown",
      "metadata": {
        "id": "QYqnj91kTCZv"
      },
      "source": [
        "### Trường hợp 1: "
      ]
    },
    {
      "cell_type": "code",
      "metadata": {
        "id": "ZjsCLsXSZpS-"
      },
      "source": [
        "for i in range(n-1):\n",
        "    for u in range(x-arr[i]+1):\n",
        "                f[u+arr[i]] = min(f[u+arr[i]], f[u]+i+2)"
      ],
      "execution_count": null,
      "outputs": []
    },
    {
      "cell_type": "markdown",
      "metadata": {
        "id": "TuKUGOsHZz6O"
      },
      "source": [
        "###Trường hợp 2:"
      ]
    },
    {
      "cell_type": "code",
      "metadata": {
        "id": "IckPYyLuZ27P"
      },
      "source": [
        "sol = f[x]\n",
        "if n>1:\n",
        "    for i in range(x-arr[n-2]-arr[n-1]+1):\n",
        "        if (x-i-arr[n-2])%arr[n-1]==0: \n",
        "        # giả sử i (sum trường hợp 1) + sum[n-1] + aNumer*n = x => x-i-sum[n-1] phải chia hết cho n \n",
        "                sol = min(sol,f[i]+n+(x-i-arr[n-2])//arr[n-1])\n",
        "#kết quả cuối cùng chính là sol-1 hoặc nếu sol = vô cùng lớn -> xuất ra -1"
      ],
      "execution_count": null,
      "outputs": []
    }
  ]
}